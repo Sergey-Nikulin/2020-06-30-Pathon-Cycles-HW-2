{
 "cells": [
  {
   "cell_type": "markdown",
   "metadata": {},
   "source": [
    "**Задание 1**. Дан список с визитами по городам и странам. \n",
    "Напишите код, который возвращает отфильтрованный список geo_logs, содержащий только визиты из России."
   ]
  },
  {
   "cell_type": "code",
   "execution_count": 26,
   "metadata": {},
   "outputs": [],
   "source": [
    "geo_logs = [\n",
    "    {'visit1': ['Москва', 'Россия']},\n",
    "    {'visit2': ['Дели', 'Индия']},\n",
    "    {'visit3': ['Владимир', 'Россия']},\n",
    "    {'visit4': ['Лиссабон', 'Португалия']},\n",
    "    {'visit5': ['Париж', 'Франция']},\n",
    "    {'visit6': ['Лиссабон', 'Португалия']},\n",
    "    {'visit7': ['Тула', 'Россия']},\n",
    "    {'visit8': ['Тула', 'Россия']},\n",
    "    {'visit9': ['Курск', 'Россия']},\n",
    "    {'visit10': ['Архангельск', 'Россия']}\n",
    "]"
   ]
  },
  {
   "cell_type": "code",
   "execution_count": 27,
   "metadata": {},
   "outputs": [
    {
     "name": "stdout",
     "output_type": "stream",
     "text": [
      "['Москва', 'Россия']\n",
      "['Владимир', 'Россия']\n",
      "['Тула', 'Россия']\n",
      "['Тула', 'Россия']\n",
      "['Курск', 'Россия']\n",
      "['Архангельск', 'Россия']\n"
     ]
    }
   ],
   "source": [
    "for x in geo_logs:\n",
    "    for x in x.values():\n",
    "        if x[1] == 'Россия':\n",
    "            print(x)\n",
    "        \n",
    "    \n",
    "        \n",
    "    \n",
    "   "
   ]
  },
  {
   "cell_type": "markdown",
   "metadata": {},
   "source": [
    "**Задание 2**. Выведите на экран все уникальные гео-ID из значений словаря ids. Т. е. список вида [213, 15, 54, 119, 98, 35]"
   ]
  },
  {
   "cell_type": "code",
   "execution_count": 3,
   "metadata": {},
   "outputs": [],
   "source": [
    "ids = {'user1': [213, 213, 213, 15, 213], \n",
    "       'user2': [54, 54, 119, 119, 119], \n",
    "       'user3': [213, 98, 98, 35]}"
   ]
  },
  {
   "cell_type": "code",
   "execution_count": 6,
   "metadata": {},
   "outputs": [
    {
     "name": "stdout",
     "output_type": "stream",
     "text": [
      "[98, 35, 213, 54, 119, 15]\n"
     ]
    }
   ],
   "source": [
    "my_set = set()\n",
    "for x in ids.values():\n",
    "    set_ = set(x)\n",
    "    my_set.update(set_)\n",
    "print(list(my_set))\n",
    "\n",
    "    #print(set_)\n",
    "    #print(type(set_))\n",
    "    \n",
    "\n",
    "    \n",
    "    "
   ]
  },
  {
   "cell_type": "markdown",
   "metadata": {},
   "source": [
    "**Задание 3**. Дан список поисковых запросов. Получить распределение количества слов в них. \n",
    "Т. е. поисковых запросов из одного - слова 5%, из двух - 7%, из трех - 3% и т.д."
   ]
  },
  {
   "cell_type": "code",
   "execution_count": 152,
   "metadata": {},
   "outputs": [
    {
     "name": "stdout",
     "output_type": "stream",
     "text": [
      "<class 'list'>\n"
     ]
    }
   ],
   "source": [
    "queries = [\n",
    "    'смотреть сериалы онлайн',\n",
    "    'новости спорта',\n",
    "    'афиша кино',\n",
    "    'курс доллара',\n",
    "    'сериалы этим летом',\n",
    "    'курс по питону',\n",
    "    'сериалы про спорт',\n",
    "]\n",
    "print(type(queries))"
   ]
  },
  {
   "cell_type": "code",
   "execution_count": 153,
   "metadata": {},
   "outputs": [
    {
     "name": "stdout",
     "output_type": "stream",
     "text": [
      "Поисковых запросов из 2-х слов равно 42.86 %.\n",
      "Поисковых запросов из 3-х слов равно 57.14 %.\n"
     ]
    }
   ],
   "source": [
    "queries_len = len(queries)\n",
    "my_count = []\n",
    "\n",
    "for i in queries:\n",
    "    x = len(i.split())\n",
    "    my_count.append(x)\n",
    "#print(my_count)\n",
    "\n",
    "my_set = set(my_count)\n",
    "# print(my_set)\n",
    "# print(type(my_set))\n",
    "\n",
    "# s = list(range(0, len(my_set)))\n",
    "for z in my_set:\n",
    "    print(f\"Поисковых запросов из {z}-х слов равно {round(my_count.count(z)/queries_len *100, 2)} %.\")\n",
    "   "
   ]
  },
  {
   "cell_type": "markdown",
   "metadata": {},
   "source": [
    "**Задание 4**. Дана статистика рекламных каналов по объемам продаж. Напишите скрипт, который возвращает название канала с максимальным объемом.\n",
    "Т. е. в данном примере скрипт должен возвращать 'yandex'."
   ]
  },
  {
   "cell_type": "code",
   "execution_count": 91,
   "metadata": {},
   "outputs": [
    {
     "name": "stdout",
     "output_type": "stream",
     "text": [
      "<class 'dict'>\n"
     ]
    }
   ],
   "source": [
    "stats = {'facebook': 55, 'yandex': 120, 'vk': 115, 'google': 99, 'email': 42, 'ok': 98}\n",
    "print(type(stats))"
   ]
  },
  {
   "cell_type": "code",
   "execution_count": 98,
   "metadata": {},
   "outputs": [
    {
     "name": "stdout",
     "output_type": "stream",
     "text": [
      "Максимальный объем продаж у компании Yandex: 120\n"
     ]
    }
   ],
   "source": [
    "company = ''\n",
    "visits = 0\n",
    "\n",
    "for x, y in stats.items():\n",
    "    if y > visits:\n",
    "        company = x\n",
    "        visits = y\n",
    "print(f\"Максимальный объем продаж у компании {company.capitalize()}: {visits}\")\n",
    "        # print(company)\n",
    "    # if y > 115:\n",
    "        # print(x)"
   ]
  },
  {
   "cell_type": "markdown",
   "metadata": {},
   "source": [
    "**Задание 5**. Напишите код для преобразования произвольного списка вида ['2018-01-01', 'yandex', 'cpc', 100] (он может быть любой длины) в словарь {'2018-01-01': {'yandex': {'cpc': 100}}}"
   ]
  },
  {
   "cell_type": "code",
   "execution_count": 38,
   "metadata": {},
   "outputs": [
    {
     "name": "stdout",
     "output_type": "stream",
     "text": [
      "{'2020-01-01': {'yandex': {'срс': 100}}}\n"
     ]
    }
   ],
   "source": [
    "my_list = ['2020-01-01', 'yandex', 'срс', 100]\n",
    "# my_dict = {}\n",
    "value = my_list.pop()\n",
    "while len(my_list) > 0:\n",
    "    key = my_list.pop()\n",
    "    value = {key: value}\n",
    "print(value)\n",
    "    "
   ]
  },
  {
   "cell_type": "code",
   "execution_count": null,
   "metadata": {},
   "outputs": [],
   "source": []
  }
 ],
 "metadata": {
  "kernelspec": {
   "display_name": "Python 3",
   "language": "python",
   "name": "python3"
  },
  "language_info": {
   "codemirror_mode": {
    "name": "ipython",
    "version": 3
   },
   "file_extension": ".py",
   "mimetype": "text/x-python",
   "name": "python",
   "nbconvert_exporter": "python",
   "pygments_lexer": "ipython3",
   "version": "3.7.6"
  }
 },
 "nbformat": 4,
 "nbformat_minor": 2
}
